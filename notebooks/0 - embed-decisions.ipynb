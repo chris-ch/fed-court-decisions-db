{
 "cells": [
  {
   "cell_type": "code",
   "execution_count": 1,
   "metadata": {},
   "outputs": [
    {
     "name": "stderr",
     "output_type": "stream",
     "text": [
      "[nltk_data] Downloading package punkt to ../data/nltk_data...\n",
      "[nltk_data]   Package punkt is already up-to-date!\n",
      "[nltk_data] Downloading package punkt_tab to ../data/nltk_data...\n",
      "[nltk_data]   Package punkt_tab is already up-to-date!\n"
     ]
    }
   ],
   "source": [
    "import pandas\n",
    "from sentence_transformers import SentenceTransformer\n",
    "import nltk\n",
    "import os\n",
    "\n",
    "# Read parquet file\n",
    "df = pandas.read_parquet('../data/bger-2024-3-text.parquet')\n",
    "\n",
    "#model_dims = 384\n",
    "#model = SentenceTransformer(\"sentence-transformers/paraphrase-multilingual-MiniLM-L12-v2\")\n",
    "\n",
    "chunk_max_words = 500\n",
    "model_dims = 512\n",
    "model_name = \"distiluse-base-multilingual-cased-v2\"\n",
    "model = SentenceTransformer(f\"sentence-transformers/{model_name}\")\n",
    "model.save(\"../data/model\")\n",
    "\n",
    "nltk.download('punkt', download_dir='../data/nltk_data')\n",
    "nltk.download('punkt_tab', download_dir='../data/nltk_data')\n",
    "nltk.data.path.append('../data/nltk_data')\n",
    "\n",
    "index_name = \"fed-court-chunks-index\"\n",
    "\n",
    "output_path = f\"../data/chunked_embeddings_{chunk_max_words}_{model_name}.jsonl\"\n",
    "\n",
    "region = os.environ.get('AWS_REGION')\n",
    "access_key = os.environ.get('AWS_ACCESS_KEY_ID')\n",
    "secret_key = os.environ.get('AWS_SECRET_ACCESS_KEY')\n"
   ]
  },
  {
   "cell_type": "code",
   "execution_count": 2,
   "metadata": {},
   "outputs": [
    {
     "ename": "FileExistsError",
     "evalue": "File ../data/chunked_embeddings_500_distiluse-base-multilingual-cased-v2.jsonl already exists. Aborting to prevent overwrite.",
     "output_type": "error",
     "traceback": [
      "\u001b[31m---------------------------------------------------------------------------\u001b[39m",
      "\u001b[31mFileExistsError\u001b[39m                           Traceback (most recent call last)",
      "\u001b[36mCell\u001b[39m\u001b[36m \u001b[39m\u001b[32mIn[2]\u001b[39m\u001b[32m, line 6\u001b[39m\n\u001b[32m      3\u001b[39m \u001b[38;5;28;01mimport\u001b[39;00m\u001b[38;5;250m \u001b[39m\u001b[34;01mos\u001b[39;00m\n\u001b[32m      5\u001b[39m \u001b[38;5;28;01mif\u001b[39;00m os.path.exists(output_path):\n\u001b[32m----> \u001b[39m\u001b[32m6\u001b[39m     \u001b[38;5;28;01mraise\u001b[39;00m \u001b[38;5;167;01mFileExistsError\u001b[39;00m(\u001b[33mf\u001b[39m\u001b[33m\"\u001b[39m\u001b[33mFile \u001b[39m\u001b[38;5;132;01m{\u001b[39;00moutput_path\u001b[38;5;132;01m}\u001b[39;00m\u001b[33m already exists. Aborting to prevent overwrite.\u001b[39m\u001b[33m\"\u001b[39m)\n\u001b[32m      9\u001b[39m \u001b[38;5;28;01mdef\u001b[39;00m\u001b[38;5;250m \u001b[39m\u001b[34mchunk_by_sentences\u001b[39m(text, max_words=chunk_max_words):\n\u001b[32m     10\u001b[39m     sentences = sent_tokenize(text)\n",
      "\u001b[31mFileExistsError\u001b[39m: File ../data/chunked_embeddings_500_distiluse-base-multilingual-cased-v2.jsonl already exists. Aborting to prevent overwrite."
     ]
    }
   ],
   "source": [
    "from nltk.tokenize import sent_tokenize\n",
    "import json\n",
    "import os\n",
    "\n",
    "if os.path.exists(output_path):\n",
    "    raise FileExistsError(f\"File {output_path} already exists. Aborting to prevent overwrite.\")\n",
    "\n",
    "\n",
    "def chunk_by_sentences(text, max_words=chunk_max_words):\n",
    "    sentences = sent_tokenize(text)\n",
    "    chunks, current_chunk = [], []\n",
    "    current_length = 0\n",
    "    for sentence in sentences:\n",
    "        word_count = len(sentence.split())\n",
    "        if current_length + word_count > max_words:\n",
    "            chunks.append(\" \".join(current_chunk))\n",
    "            current_chunk = [sentence]\n",
    "            current_length = word_count\n",
    "        else:\n",
    "            current_chunk.append(sentence)\n",
    "            current_length += word_count\n",
    "    if current_chunk:\n",
    "        chunks.append(\" \".join(current_chunk))\n",
    "    return chunks\n",
    "\n",
    "with open(output_path, \"w\") as f_out:\n",
    "    for _, row in df.iterrows():\n",
    "        chunks = chunk_by_sentences(str(row[\"text\"]))\n",
    "        embeddings = model.encode(chunks, batch_size=32, show_progress_bar=False)\n",
    "        for i, (chunk, embedding) in enumerate(zip(chunks, embeddings)):\n",
    "            data = {\n",
    "                \"doc_id\": row[\"docref\"],\n",
    "                \"chunk_id\": i,\n",
    "                \"text\": chunk,\n",
    "                \"url\": row[\"url\"],\n",
    "                \"date\": row[\"date\"],\n",
    "                \"language\": row[\"language\"],\n",
    "                \"embedding\": embedding.tolist()\n",
    "            }\n",
    "            f_out.write(json.dumps(data) + \"\\n\")\n"
   ]
  }
 ],
 "metadata": {
  "kernelspec": {
   "display_name": ".venv",
   "language": "python",
   "name": "python3"
  },
  "language_info": {
   "codemirror_mode": {
    "name": "ipython",
    "version": 3
   },
   "file_extension": ".py",
   "mimetype": "text/x-python",
   "name": "python",
   "nbconvert_exporter": "python",
   "pygments_lexer": "ipython3",
   "version": "3.13.3"
  }
 },
 "nbformat": 4,
 "nbformat_minor": 2
}
