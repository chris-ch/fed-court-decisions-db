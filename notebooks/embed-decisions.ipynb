{
 "cells": [
  {
   "cell_type": "code",
   "execution_count": 12,
   "metadata": {},
   "outputs": [
    {
     "name": "stderr",
     "output_type": "stream",
     "text": [
      "[nltk_data] Downloading package punkt to ../data/nltk_data...\n",
      "[nltk_data]   Package punkt is already up-to-date!\n",
      "[nltk_data] Downloading package punkt_tab to ../data/nltk_data...\n",
      "[nltk_data]   Package punkt_tab is already up-to-date!\n"
     ]
    }
   ],
   "source": [
    "import pandas as pd\n",
    "from sentence_transformers import SentenceTransformer\n",
    "import nltk\n",
    "from opensearchpy import OpenSearch\n",
    "\n",
    "\n",
    "# Read parquet file\n",
    "df = pd.read_parquet('../data/bger-2024-3-text.parquet')\n",
    "\n",
    "model_dims = 384\n",
    "model = SentenceTransformer(\"sentence-transformers/paraphrase-multilingual-MiniLM-L12-v2\")\n",
    "\n",
    "#model_dims = 512\n",
    "#model = SentenceTransformer(\"sentence-transformers/distiluse-base-multilingual-cased-v2\")\n",
    "\n",
    "nltk.download('punkt', download_dir='../data/nltk_data')\n",
    "nltk.download('punkt_tab', download_dir='../data/nltk_data')\n",
    "nltk.data.path.append('../data/nltk_data')\n",
    "\n",
    "# Connect to your cluster\n",
    "opensearch_client = OpenSearch(\n",
    "    hosts=[{\"host\": \"opensearch-dev\", \"port\": 9200}],  # adapt to your setup\n",
    "    http_compress=True\n",
    ")\n",
    "\n",
    "# Create index with dense vector field\n",
    "index_name = \"fed-court-chunks\"\n"
   ]
  },
  {
   "cell_type": "code",
   "execution_count": null,
   "metadata": {},
   "outputs": [],
   "source": [
    "from nltk.tokenize import sent_tokenize\n",
    "import json\n",
    "\n",
    "# TODO: use overlapping\n",
    "\n",
    "def chunk_by_sentences(text, max_words=500):\n",
    "    sentences = sent_tokenize(text)\n",
    "    chunks, current_chunk = [], []\n",
    "    current_length = 0\n",
    "    for sentence in sentences:\n",
    "        word_count = len(sentence.split())\n",
    "        if current_length + word_count > max_words:\n",
    "            chunks.append(\" \".join(current_chunk))\n",
    "            current_chunk = [sentence]\n",
    "            current_length = word_count\n",
    "        else:\n",
    "            current_chunk.append(sentence)\n",
    "            current_length += word_count\n",
    "    if current_chunk:\n",
    "        chunks.append(\" \".join(current_chunk))\n",
    "    return chunks\n",
    "\n",
    "output_path = \"../data/chunked_embeddings.jsonl\"\n",
    "\n",
    "with open(output_path, \"w\") as f_out:\n",
    "    for _, row in df.iterrows():\n",
    "        chunks = chunk_by_sentences(str(row[\"text\"]))\n",
    "        embeddings = model.encode(chunks, batch_size=32, show_progress_bar=False)\n",
    "        for i, (chunk, embedding) in enumerate(zip(chunks, embeddings)):\n",
    "            data = {\n",
    "                \"doc_id\": row[\"docref\"],\n",
    "                \"chunk_id\": i,\n",
    "                \"text\": chunk,\n",
    "                \"language\": row[\"language\"],\n",
    "                \"embedding\": embedding.tolist()\n",
    "            }\n",
    "            f_out.write(json.dumps(data) + \"\\n\")\n"
   ]
  },
  {
   "cell_type": "code",
   "execution_count": null,
   "metadata": {},
   "outputs": [
    {
     "data": {
      "text/plain": [
       "(934965, [])"
      ]
     },
     "execution_count": 35,
     "metadata": {},
     "output_type": "execute_result"
    }
   ],
   "source": [
    "from opensearchpy import OpenSearch\n",
    "import json\n",
    "from opensearchpy.helpers import bulk\n",
    "\n",
    "\n",
    "index_name = \"fed-court-chunks\"\n",
    "\n",
    "\n",
    "if not opensearch_client.indices.exists(index=index_name):\n",
    "    opensearch_client.indices.create(\n",
    "        index=index_name,\n",
    "        body={\n",
    "            \"settings\": {\n",
    "                \"index\": {\n",
    "                    \"knn\": True\n",
    "                }\n",
    "            },\n",
    "            \"mappings\": {\n",
    "                \"properties\": {\n",
    "                    \"embedding\": {\n",
    "                        \"type\": \"knn_vector\",\n",
    "                        \"dimension\": model_dims\n",
    "                    },\n",
    "                    \"text\": {\n",
    "                        \"type\": \"text\"\n",
    "                    },\n",
    "                    \"doc_id\": {\n",
    "                        \"type\": \"keyword\"\n",
    "                    },\n",
    "                    \"chunk_id\": {\n",
    "                        \"type\": \"integer\"\n",
    "                    }\n",
    "                }\n",
    "            }\n",
    "        }\n",
    "    )\n",
    "\n",
    "# Generator to yield actions from the JSONL file\n",
    "def generate_actions(jsonl_path):\n",
    "    with open(jsonl_path, \"r\") as f:\n",
    "        for line in f:\n",
    "            chunk = json.loads(line)\n",
    "            yield {\n",
    "                \"_index\": index_name,\n",
    "                \"_id\": f\"{chunk['doc_id']}-{chunk['chunk_id']}\",\n",
    "                \"_source\": {\n",
    "                    \"embedding\": chunk[\"embedding\"],\n",
    "                    \"text\": chunk[\"text\"],\n",
    "                    \"doc_id\": chunk[\"doc_id\"],\n",
    "                    \"chunk_id\": chunk[\"chunk_id\"]\n",
    "                }\n",
    "            }\n",
    "\n",
    "# Connect to your cluster\n",
    "client = OpenSearch(\n",
    "    hosts=[{\"host\": \"opensearch-dev\", \"port\": 9200}],  # adapt to your setup\n",
    "    http_compress=False\n",
    ")\n",
    "\n",
    "# Use bulk helper with the generator\n",
    "bulk(client,\n",
    "     generate_actions(\"../data/chunked_embeddings.jsonl\"),\n",
    "    chunk_size=10,            # 💡 try 20 or even 10\n",
    "    request_timeout=3600\n",
    ")\n"
   ]
  },
  {
   "cell_type": "code",
   "execution_count": 36,
   "metadata": {},
   "outputs": [
    {
     "name": "stdout",
     "output_type": "stream",
     "text": [
      "fed-court-chunks               | Docs: 934965     | Size: 9.9gb\n",
      "{'cluster_name': 'docker-cluster', 'status': 'yellow', 'timed_out': False, 'number_of_nodes': 1, 'number_of_data_nodes': 1, 'discovered_master': True, 'discovered_cluster_manager': True, 'active_primary_shards': 1, 'active_shards': 1, 'relocating_shards': 0, 'initializing_shards': 0, 'unassigned_shards': 1, 'delayed_unassigned_shards': 0, 'number_of_pending_tasks': 0, 'number_of_in_flight_fetch': 0, 'task_max_waiting_in_queue_millis': 0, 'active_shards_percent_as_number': 50.0}\n"
     ]
    }
   ],
   "source": [
    "\n",
    "indices = client.cat.indices(format=\"json\")  # compact JSON format\n",
    "for idx in indices:\n",
    "    print(f\"{idx['index']:30} | Docs: {idx['docs.count']:10} | Size: {idx['store.size']}\")\n",
    "\n",
    "health = client.cluster.health()\n",
    "print(health)"
   ]
  },
  {
   "cell_type": "code",
   "execution_count": 6,
   "metadata": {},
   "outputs": [
    {
     "data": {
      "text/plain": [
       "{'acknowledged': True}"
      ]
     },
     "execution_count": 6,
     "metadata": {},
     "output_type": "execute_result"
    }
   ],
   "source": [
    "client.indices.delete(index=index_name, request_timeout=3600)\n",
    "#df.columns\n"
   ]
  }
 ],
 "metadata": {
  "kernelspec": {
   "display_name": ".venv",
   "language": "python",
   "name": "python3"
  },
  "language_info": {
   "codemirror_mode": {
    "name": "ipython",
    "version": 3
   },
   "file_extension": ".py",
   "mimetype": "text/x-python",
   "name": "python",
   "nbconvert_exporter": "python",
   "pygments_lexer": "ipython3",
   "version": "3.13.3"
  }
 },
 "nbformat": 4,
 "nbformat_minor": 2
}
