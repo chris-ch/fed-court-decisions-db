{
 "cells": [
  {
   "cell_type": "code",
   "execution_count": null,
   "metadata": {},
   "outputs": [],
   "source": [
    "import pandas as pd\n",
    "from sentence_transformers import SentenceTransformer\n",
    "import nltk\n",
    "from opensearchpy import OpenSearch\n",
    "\n",
    "\n",
    "# Read parquet file\n",
    "df = pd.read_parquet('../data/bger-2024-3-text.parquet')\n",
    "\n",
    "model = SentenceTransformer(\"all-MiniLM-L6-v2\")\n",
    "\n",
    "nltk.download('punkt', download_dir='../data/nltk_data')\n",
    "nltk.download('punkt_tab', download_dir='../data/nltk_data')\n",
    "nltk.data.path.append('../data/nltk_data')\n",
    "\n",
    "# Connect to your cluster\n",
    "client = OpenSearch(\n",
    "    hosts=[{\"host\": \"opensearch-dev\", \"port\": 9200}],  # adapt to your setup\n",
    "    http_compress=True\n",
    ")\n",
    "\n",
    "# Create index with dense vector field\n",
    "index_name = \"fed-court-chunks\"\n",
    "\n",
    "if not client.indices.exists(index=index_name):\n",
    "    client.indices.create(\n",
    "        index=index_name,\n",
    "        body={\n",
    "            \"mappings\": {\n",
    "                \"properties\": {\n",
    "                    \"doc_id\": {\"type\": \"keyword\"},\n",
    "                    \"chunk_id\": {\"type\": \"integer\"},\n",
    "                    \"text\": {\"type\": \"text\"},\n",
    "                    \"embedding\": {\n",
    "                        \"type\": \"knn_vector\",  # or \"dense_vector\" depending on OpenSearch version\n",
    "                        \"dimension\": 384\n",
    "                    }\n",
    "                }\n",
    "            },\n",
    "            \"settings\": {\n",
    "                \"index\": {\n",
    "                    \"knn\": True\n",
    "                }\n",
    "            }\n",
    "        }\n",
    "    )"
   ]
  },
  {
   "cell_type": "code",
   "execution_count": null,
   "metadata": {},
   "outputs": [],
   "source": [
    "from nltk.tokenize import sent_tokenize\n",
    "\n",
    "def chunk_by_sentences(text, max_words=300):\n",
    "    sentences = sent_tokenize(text)\n",
    "    chunks, current_chunk = [], []\n",
    "    current_length = 0\n",
    "    for sentence in sentences:\n",
    "        word_count = len(sentence.split())\n",
    "        if current_length + word_count > max_words:\n",
    "            chunks.append(\" \".join(current_chunk))\n",
    "            current_chunk = [sentence]\n",
    "            current_length = word_count\n",
    "        else:\n",
    "            current_chunk.append(sentence)\n",
    "            current_length += word_count\n",
    "    if current_chunk:\n",
    "        chunks.append(\" \".join(current_chunk))\n",
    "    return chunks\n",
    "\n",
    "all_chunks = []\n",
    "for doc_id, text in enumerate(df['text'].to_list()):\n",
    "    chunks = chunk_by_sentences(str(text))\n",
    "    for i, chunk in enumerate(chunks):\n",
    "        all_chunks.append({\n",
    "            \"doc_id\": doc_id,\n",
    "            \"chunk_id\": i,\n",
    "            \"text\": chunk\n",
    "        })\n"
   ]
  },
  {
   "cell_type": "code",
   "execution_count": null,
   "metadata": {},
   "outputs": [
    {
     "data": {
      "application/vnd.jupyter.widget-view+json": {
       "model_id": "9c7f37002cfe49508cfdd2ed45bfb96f",
       "version_major": 2,
       "version_minor": 0
      },
      "text/plain": [
       "Batches:   0%|          | 0/29218 [00:00<?, ?it/s]"
      ]
     },
     "metadata": {},
     "output_type": "display_data"
    }
   ],
   "source": [
    "texts_to_embed = [chunk[\"text\"] for chunk in all_chunks]\n",
    "embeddings = model.encode(texts_to_embed, batch_size=32, show_progress_bar=True)"
   ]
  },
  {
   "cell_type": "code",
   "execution_count": null,
   "metadata": {},
   "outputs": [],
   "source": [
    "import json\n",
    "\n",
    "output_path = \"../data/chunked_embeddings.jsonl\"\n",
    "\n",
    "with open(output_path, \"w\") as f_out:\n",
    "    for i, chunk in enumerate(all_chunks):\n",
    "        chunk[\"embedding\"] = embeddings[i].tolist()  # convert NumPy array to list\n",
    "        json_line = json.dumps(chunk)\n",
    "        f_out.write(json_line + \"\\n\")"
   ]
  },
  {
   "cell_type": "code",
   "execution_count": 8,
   "metadata": {},
   "outputs": [
    {
     "data": {
      "text/plain": [
       "(934965, [])"
      ]
     },
     "execution_count": 8,
     "metadata": {},
     "output_type": "execute_result"
    }
   ],
   "source": [
    "from opensearchpy import OpenSearch\n",
    "import json\n",
    "from opensearchpy.helpers import bulk\n",
    "\n",
    "# Generator to yield actions from the JSONL file\n",
    "def generate_actions(jsonl_path):\n",
    "    with open(jsonl_path, \"r\") as f:\n",
    "        for line in f:\n",
    "            chunk = json.loads(line)\n",
    "            yield {\n",
    "                \"_index\": index_name,\n",
    "                \"_id\": f\"{chunk['doc_id']}-{chunk['chunk_id']}\",\n",
    "                \"_source\": {\n",
    "                    \"doc_id\": chunk[\"doc_id\"],\n",
    "                    \"chunk_id\": chunk[\"chunk_id\"],\n",
    "                    \"text\": chunk[\"text\"],\n",
    "                    \"embedding\": chunk[\"embedding\"]\n",
    "                }\n",
    "            }\n",
    "\n",
    "\n",
    "index_name = \"fed-court-chunks\"\n",
    "\n",
    "\n",
    "# Connect to your cluster\n",
    "client = OpenSearch(\n",
    "    hosts=[{\"host\": \"opensearch-dev\", \"port\": 9200}],  # adapt to your setup\n",
    "    http_compress=False\n",
    ")\n",
    "\n",
    "# Use bulk helper with the generator\n",
    "bulk(client, generate_actions(\"../data/chunked_embeddings.jsonl\"))"
   ]
  },
  {
   "cell_type": "code",
   "execution_count": 11,
   "metadata": {},
   "outputs": [
    {
     "name": "stdout",
     "output_type": "stream",
     "text": [
      "fed-court-chunks               | Docs: 928000     | Size: 13.3gb\n",
      "{'cluster_name': 'docker-cluster', 'status': 'yellow', 'timed_out': False, 'number_of_nodes': 1, 'number_of_data_nodes': 1, 'discovered_master': True, 'discovered_cluster_manager': True, 'active_primary_shards': 1, 'active_shards': 1, 'relocating_shards': 0, 'initializing_shards': 0, 'unassigned_shards': 1, 'delayed_unassigned_shards': 0, 'number_of_pending_tasks': 0, 'number_of_in_flight_fetch': 0, 'task_max_waiting_in_queue_millis': 0, 'active_shards_percent_as_number': 50.0}\n"
     ]
    }
   ],
   "source": [
    "\n",
    "indices = client.cat.indices(format=\"json\")  # compact JSON format\n",
    "for idx in indices:\n",
    "    print(f\"{idx['index']:30} | Docs: {idx['docs.count']:10} | Size: {idx['store.size']}\")\n",
    "\n",
    "health = client.cluster.health()\n",
    "print(health)"
   ]
  },
  {
   "cell_type": "code",
   "execution_count": null,
   "metadata": {},
   "outputs": [
    {
     "data": {
      "text/plain": [
       "{'acknowledged': True}"
      ]
     },
     "execution_count": 6,
     "metadata": {},
     "output_type": "execute_result"
    }
   ],
   "source": [
    "\n"
   ]
  }
 ],
 "metadata": {
  "kernelspec": {
   "display_name": ".venv",
   "language": "python",
   "name": "python3"
  },
  "language_info": {
   "codemirror_mode": {
    "name": "ipython",
    "version": 3
   },
   "file_extension": ".py",
   "mimetype": "text/x-python",
   "name": "python",
   "nbconvert_exporter": "python",
   "pygments_lexer": "ipython3",
   "version": "3.13.3"
  }
 },
 "nbformat": 4,
 "nbformat_minor": 2
}
